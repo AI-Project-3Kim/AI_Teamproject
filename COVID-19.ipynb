{
 "cells": [
  {
   "cell_type": "code",
   "execution_count": 14,
   "metadata": {},
   "outputs": [],
   "source": [
    "import numpy as np\n",
    "import seaborn as sn\n",
    "import pandas as pd\n",
    "import matplotlib.pyplot as plt\n",
    "import random\n",
    "from sklearn.metrics import confusion_matrix"
   ]
  },
  {
   "cell_type": "code",
   "execution_count": 15,
   "metadata": {},
   "outputs": [],
   "source": [
    "from CNN.layers.convolutional import Conv\n",
    "from CNN.layers.pooling import MaxPooling\n",
    "from CNN.layers.flatten import Flatten\n",
    "from CNN.layers.dense import DenseLayer\n",
    "from CNN.layers.softmax import Softmax\n",
    "from CNN.layers.relu import Relu\n",
    "from CNN.layers.dropout import Dropout"
   ]
  },
  {
   "cell_type": "code",
   "execution_count": 16,
   "metadata": {},
   "outputs": [],
   "source": [
    "from CNN.optimizer.adam import Adam\n",
    "from CNN.sequential import SequentialModel"
   ]
  },
  {
   "cell_type": "code",
   "execution_count": null,
   "metadata": {},
   "outputs": [],
   "source": [
    "### data\n",
    "x = np.load('./covid_19_data/x.npy')\n",
    "y_data = np.load('./covid_19_data/y.npy')\n",
    "\n",
    "y=np.array([[0,0,0]])\n",
    "for i in y_data:\n",
    "    if i == 0:\n",
    "        label=np.array([1,0,0])\n",
    "    elif i == 1:\n",
    "        label=np.array([0,1,0]) \n",
    "    else:\n",
    "        label=np.array([0,0,1])  \n",
    "    label=label.reshape(1,3)\n",
    "    y=np.concatenate([y,label],axis=0)\n",
    "# 이게 one-hot vector 값 ( 처음에 초기화 한거 지움 )\n",
    "y=np.delete(y,0,axis=0)"
   ]
  },
  {
   "cell_type": "code",
   "execution_count": 5,
   "metadata": {},
   "outputs": [],
   "source": [
    "test_idx = random.sample(range(len(x)),int(0.3*len(x)))\n",
    "x_test = x[test_idx,:,:]\n",
    "x_train = np.delete(x, test_idx, axis=0)\n",
    "y_test = y[test_idx,:]\n",
    "y_train = np.delete(y, test_idx, axis=0)"
   ]
  },
  {
   "cell_type": "code",
   "execution_count": 6,
   "metadata": {},
   "outputs": [
    {
     "name": "stdout",
     "output_type": "stream",
     "text": [
      "(11973, 3)\n",
      "(11973, 224, 224)\n"
     ]
    }
   ],
   "source": [
    "print(y_train.shape)\n",
    "print(x_train.shape)"
   ]
  },
  {
   "cell_type": "code",
   "execution_count": 12,
   "metadata": {},
   "outputs": [],
   "source": [
    "bs = 64  #batch size\n",
    "\n",
    "layers = [\n",
    "    Conv(num_stride=1, padding = \"same\", num_filter=64, filter_size=(3, 3, 1), input_shape = (bs, 224,224,1)),\n",
    "    Relu(),\n",
    "    Conv(num_stride=1, padding = \"same\", num_filter=128, filter_size=(3, 3, 64), input_shape = (bs, 224,224,64)),\n",
    "    Relu(),\n",
    "    MaxPooling(size=(2, 2), stride=2),\n",
    "#     Dropout(dropout_rate=0.75),\n",
    "    Conv(num_stride=1, padding = \"same\", num_filter=256, filter_size=(3, 3, 128), input_shape = (bs, 112,112,128)),\n",
    "    Relu(),\n",
    "    MaxPooling(size=(2, 2), stride=2),\n",
    "    Conv(num_stride=1, padding = \"same\", num_filter=512, filter_size=(3, 3, 256), input_shape = (bs, 56,56,256)),\n",
    "    Relu(),\n",
    "    MaxPooling(size=(2, 2), stride=2),\n",
    "    Conv(num_stride=1, padding = \"same\", num_filter=512, filter_size=(3, 3, 512), input_shape = (bs, 28,28,512)),\n",
    "    Relu(),\n",
    "    MaxPooling(size=(2, 2), stride=2),\n",
    "    Conv(num_stride=1, padding = \"same\", num_filter=512, filter_size=(3, 3, 512), input_shape = (bs, 14,14,512)),\n",
    "    Relu(),\n",
    "    MaxPooling(size=(2, 2), stride=2),\n",
    "    Conv(num_stride=1, padding = \"same\", num_filter=512, filter_size=(3, 3, 512), input_shape = (bs, 7,7,512)),\n",
    "    Relu(),   \n",
    "    Flatten(),\n",
    "    DenseLayer.initialize(prev_num=7*7*512, after_num=4096),\n",
    "    Relu(),\n",
    "    Dropout(dropout_rate=0.75),\n",
    "    DenseLayer.initialize(prev_num=4096, after_num=4096),\n",
    "    Relu(),\n",
    "    Dropout(dropout_rate=0.75),\n",
    "    DenseLayer.initialize(prev_num=4096, after_num=3),\n",
    "    Softmax()\n",
    "]\n",
    "\n",
    "optimizer = Adam(lr=0.003)\n",
    "\n",
    "model = SequentialModel(\n",
    "    layers=layers,\n",
    "    optimizer=optimizer\n",
    ")"
   ]
  },
  {
   "cell_type": "code",
   "execution_count": 13,
   "metadata": {},
   "outputs": [
    {
     "ename": "TypeError",
     "evalue": "forward() takes 2 positional arguments but 4 were given",
     "output_type": "error",
     "traceback": [
      "\u001b[1;31m---------------------------------------------------------------------------\u001b[0m",
      "\u001b[1;31mTypeError\u001b[0m                                 Traceback (most recent call last)",
      "\u001b[1;32m<ipython-input-13-7ba215488ee4>\u001b[0m in \u001b[0;36m<module>\u001b[1;34m\u001b[0m\n\u001b[0;32m      1\u001b[0m \u001b[0mepochs\u001b[0m \u001b[1;33m=\u001b[0m \u001b[1;36m100\u001b[0m\u001b[1;33m\u001b[0m\u001b[1;33m\u001b[0m\u001b[0m\n\u001b[1;32m----> 2\u001b[1;33m \u001b[0mmodel\u001b[0m\u001b[1;33m.\u001b[0m\u001b[0mtrain\u001b[0m\u001b[1;33m(\u001b[0m\u001b[0mx_train\u001b[0m \u001b[1;33m=\u001b[0m \u001b[0mx_train\u001b[0m\u001b[1;33m,\u001b[0m \u001b[0my_train\u001b[0m \u001b[1;33m=\u001b[0m \u001b[0my_train\u001b[0m\u001b[1;33m,\u001b[0m \u001b[0mepochs\u001b[0m \u001b[1;33m=\u001b[0m \u001b[0mepochs\u001b[0m\u001b[1;33m,\u001b[0m \u001b[0mbatch_size\u001b[0m \u001b[1;33m=\u001b[0m \u001b[0mbs\u001b[0m\u001b[1;33m)\u001b[0m\u001b[1;33m\u001b[0m\u001b[1;33m\u001b[0m\u001b[0m\n\u001b[0m\u001b[0;32m      3\u001b[0m \u001b[0mmodel\u001b[0m\u001b[1;33m.\u001b[0m\u001b[0mtest\u001b[0m\u001b[1;33m(\u001b[0m\u001b[0mx_test\u001b[0m \u001b[1;33m=\u001b[0m \u001b[0mx_test\u001b[0m\u001b[1;33m,\u001b[0m \u001b[0my_test\u001b[0m \u001b[1;33m=\u001b[0m \u001b[0my_test\u001b[0m\u001b[1;33m,\u001b[0m \u001b[0mbatch_size\u001b[0m \u001b[1;33m=\u001b[0m \u001b[0mbs\u001b[0m\u001b[1;33m)\u001b[0m\u001b[1;33m\u001b[0m\u001b[1;33m\u001b[0m\u001b[0m\n",
      "\u001b[1;32m~\\Desktop\\STUDY\\4학년 1학기\\인공지능\\프로젝트\\CNN\\sequential.py\u001b[0m in \u001b[0;36mtrain\u001b[1;34m(self, x_train, y_train, epochs, batch_size)\u001b[0m\n\u001b[0;32m     20\u001b[0m                 \u001b[0my_train_batch\u001b[0m \u001b[1;33m=\u001b[0m \u001b[0my_train\u001b[0m\u001b[1;33m.\u001b[0m\u001b[0mtake\u001b[0m\u001b[1;33m(\u001b[0m\u001b[0mindices\u001b[0m\u001b[1;33m=\u001b[0m\u001b[0mrange\u001b[0m\u001b[1;33m(\u001b[0m\u001b[0midx\u001b[0m\u001b[1;33m,\u001b[0m \u001b[0mmin\u001b[0m\u001b[1;33m(\u001b[0m\u001b[0midx\u001b[0m \u001b[1;33m+\u001b[0m \u001b[0mbatch_size\u001b[0m\u001b[1;33m,\u001b[0m \u001b[0my_train\u001b[0m\u001b[1;33m.\u001b[0m\u001b[0mshape\u001b[0m\u001b[1;33m[\u001b[0m\u001b[1;36m0\u001b[0m\u001b[1;33m]\u001b[0m\u001b[1;33m)\u001b[0m\u001b[1;33m)\u001b[0m\u001b[1;33m,\u001b[0m \u001b[0maxis\u001b[0m\u001b[1;33m=\u001b[0m\u001b[1;36m0\u001b[0m\u001b[1;33m)\u001b[0m\u001b[1;33m\u001b[0m\u001b[1;33m\u001b[0m\u001b[0m\n\u001b[0;32m     21\u001b[0m \u001b[1;33m\u001b[0m\u001b[0m\n\u001b[1;32m---> 22\u001b[1;33m                 \u001b[0my_hat_batch\u001b[0m \u001b[1;33m=\u001b[0m \u001b[0mself\u001b[0m\u001b[1;33m.\u001b[0m\u001b[0mforward\u001b[0m\u001b[1;33m(\u001b[0m\u001b[0mx_train_batch\u001b[0m\u001b[1;33m)\u001b[0m\u001b[1;33m\u001b[0m\u001b[1;33m\u001b[0m\u001b[0m\n\u001b[0m\u001b[0;32m     23\u001b[0m                 \u001b[0mloss_batch\u001b[0m \u001b[1;33m=\u001b[0m \u001b[0my_hat_batch\u001b[0m \u001b[1;33m-\u001b[0m \u001b[0my_train_batch\u001b[0m\u001b[1;33m\u001b[0m\u001b[1;33m\u001b[0m\u001b[0m\n\u001b[0;32m     24\u001b[0m                 \u001b[0mself\u001b[0m\u001b[1;33m.\u001b[0m\u001b[0mbackward\u001b[0m\u001b[1;33m(\u001b[0m\u001b[0mloss_batch\u001b[0m\u001b[1;33m)\u001b[0m\u001b[1;33m\u001b[0m\u001b[1;33m\u001b[0m\u001b[0m\n",
      "\u001b[1;31mTypeError\u001b[0m: forward() takes 2 positional arguments but 4 were given"
     ]
    }
   ],
   "source": [
    "epochs = 100\n",
    "model.train(x_train = x_train, y_train = y_train, epochs = epochs, batch_size = bs)\n",
    "model.test(x_test = x_test, y_test = y_test, batch_size = bs)\n"
   ]
  },
  {
   "cell_type": "code",
   "execution_count": null,
   "metadata": {},
   "outputs": [],
   "source": [
    "plt.plot(range(epochs), model.train_accuracy)\n",
    "plt.xlabel(\"epochs\")\n",
    "plt.ylabel(\"accuracy\")\n",
    "plt.show()"
   ]
  },
  {
   "cell_type": "code",
   "execution_count": null,
   "metadata": {},
   "outputs": [],
   "source": [
    "plt.plot(range(epochs), model.train_loss)\n",
    "plt.xlabel(\"epochs\")\n",
    "plt.ylabel(\"loss\")\n",
    "plt.show()"
   ]
  },
  {
   "cell_type": "code",
   "execution_count": null,
   "metadata": {},
   "outputs": [],
   "source": []
  },
  {
   "cell_type": "code",
   "execution_count": null,
   "metadata": {},
   "outputs": [],
   "source": []
  },
  {
   "cell_type": "code",
   "execution_count": null,
   "metadata": {},
   "outputs": [],
   "source": []
  }
 ],
 "metadata": {
  "kernelspec": {
   "display_name": "Python 3",
   "language": "python",
   "name": "python3"
  },
  "language_info": {
   "codemirror_mode": {
    "name": "ipython",
    "version": 3
   },
   "file_extension": ".py",
   "mimetype": "text/x-python",
   "name": "python",
   "nbconvert_exporter": "python",
   "pygments_lexer": "ipython3",
   "version": "3.8.5"
  }
 },
 "nbformat": 4,
 "nbformat_minor": 4
}
