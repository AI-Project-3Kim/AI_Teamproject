{
 "cells": [
  {
   "cell_type": "code",
   "execution_count": 4,
   "metadata": {},
   "outputs": [],
   "source": [
    "from tensorflow.keras.models import Sequential\n",
    "from tensorflow.keras import optimizers\n",
    "from tensorflow.keras.layers import Dense, Activation, Flatten, Conv2D, MaxPooling2D, Dropout, AveragePooling2D\n",
    "import random"
   ]
  },
  {
   "cell_type": "code",
   "execution_count": 5,
   "metadata": {},
   "outputs": [
    {
     "name": "stdout",
     "output_type": "stream",
     "text": [
      "Found 17104 files belonging to 3 classes.\n",
      "Using 13684 files for training.\n",
      "Found 17104 files belonging to 3 classes.\n",
      "Using 3420 files for validation.\n"
     ]
    }
   ],
   "source": [
    "\n",
    "import numpy as np\n",
    "\n",
    "import tensorflow as tf\n",
    "\n",
    "train_dataset=tf.keras.preprocessing.image_dataset_from_directory(\n",
    "    directory='./curated_data',\n",
    "    labels=\"inferred\",\n",
    "    label_mode=\"categorical\",\n",
    "    class_names=None,\n",
    "    color_mode=\"grayscale\",\n",
    "    batch_size=32,\n",
    "    image_size=(224, 224),\n",
    "    seed=123,\n",
    "    shuffle=True,\n",
    "    validation_split=0.2,\n",
    "    subset=\"training\",\n",
    "    interpolation=\"bilinear\",\n",
    "    follow_links=False,\n",
    ")\n",
    "test_dataset=tf.keras.preprocessing.image_dataset_from_directory(\n",
    "    directory='./curated_data',\n",
    "    labels=\"inferred\",\n",
    "    label_mode=\"categorical\",\n",
    "    class_names=None,\n",
    "    color_mode=\"grayscale\",\n",
    "    batch_size=32,\n",
    "    image_size=(224, 224),\n",
    "    seed=123,\n",
    "    validation_split=0.2,\n",
    "    subset=\"validation\",\n",
    "    interpolation=\"bilinear\",\n",
    "    follow_links=False,\n",
    ")"
   ]
  },
  {
   "cell_type": "code",
   "execution_count": 9,
   "metadata": {},
   "outputs": [],
   "source": [
    "import tensorflow as tf\n",
    "\n",
    "model = Sequential()\n",
    "\n",
    "model.add(Conv2D(filters = 6, kernel_size = (5,5) , padding=\"same\", input_shape=(224,224,1)))\n",
    "model.add(Activation(\"relu\"))\n",
    "model.add(AveragePooling2D(pool_size = (2,2), strides = (2,2)))\n",
    "\n",
    "model.add(Conv2D(filters = 16, kernel_size = (5,5) , padding=\"same\"))\n",
    "model.add(Activation(\"relu\"))\n",
    "model.add(AveragePooling2D(pool_size = (2,2), strides = (2,2)))\n",
    "\n",
    "model.add(Flatten())\n",
    "    \n",
    "model.add(Dense(120))\n",
    "model.add(Activation(\"relu\"))\n",
    "\n",
    "model.add(Dense(84))\n",
    "model.add(Activation(\"relu\"))\n",
    "\n",
    "model.add(Dense(3, activation='softmax'))\n",
    "adam = optimizers.Adam(lr = 0.003)\n",
    "model.compile(loss = 'categorical_crossentropy', optimizer = adam, metrics = ['accuracy'])"
   ]
  },
  {
   "cell_type": "code",
   "execution_count": 10,
   "metadata": {},
   "outputs": [
    {
     "name": "stdout",
     "output_type": "stream",
     "text": [
      "Model: \"sequential_2\"\n",
      "_________________________________________________________________\n",
      "Layer (type)                 Output Shape              Param #   \n",
      "=================================================================\n",
      "conv2d_3 (Conv2D)            (None, 224, 224, 6)       156       \n",
      "_________________________________________________________________\n",
      "activation_5 (Activation)    (None, 224, 224, 6)       0         \n",
      "_________________________________________________________________\n",
      "average_pooling2d_2 (Average (None, 112, 112, 6)       0         \n",
      "_________________________________________________________________\n",
      "conv2d_4 (Conv2D)            (None, 112, 112, 16)      2416      \n",
      "_________________________________________________________________\n",
      "activation_6 (Activation)    (None, 112, 112, 16)      0         \n",
      "_________________________________________________________________\n",
      "average_pooling2d_3 (Average (None, 56, 56, 16)        0         \n",
      "_________________________________________________________________\n",
      "flatten_1 (Flatten)          (None, 50176)             0         \n",
      "_________________________________________________________________\n",
      "dense_3 (Dense)              (None, 120)               6021240   \n",
      "_________________________________________________________________\n",
      "activation_7 (Activation)    (None, 120)               0         \n",
      "_________________________________________________________________\n",
      "dense_4 (Dense)              (None, 84)                10164     \n",
      "_________________________________________________________________\n",
      "activation_8 (Activation)    (None, 84)                0         \n",
      "_________________________________________________________________\n",
      "dense_5 (Dense)              (None, 3)                 255       \n",
      "=================================================================\n",
      "Total params: 6,034,231\n",
      "Trainable params: 6,034,231\n",
      "Non-trainable params: 0\n",
      "_________________________________________________________________\n"
     ]
    }
   ],
   "source": [
    "model.summary()"
   ]
  },
  {
   "cell_type": "code",
   "execution_count": 11,
   "metadata": {},
   "outputs": [
    {
     "name": "stdout",
     "output_type": "stream",
     "text": [
      "Epoch 1/10\n",
      "428/428 [==============================] - 48s 106ms/step - loss: 38.3620 - accuracy: 0.7491\n",
      "Epoch 2/10\n",
      "428/428 [==============================] - 46s 106ms/step - loss: 0.2104 - accuracy: 0.9277\n",
      "Epoch 3/10\n",
      "428/428 [==============================] - 47s 107ms/step - loss: 0.1686 - accuracy: 0.9453\n",
      "Epoch 4/10\n",
      "428/428 [==============================] - 46s 107ms/step - loss: 0.1610 - accuracy: 0.9445\n",
      "Epoch 5/10\n",
      "428/428 [==============================] - 46s 107ms/step - loss: 0.1704 - accuracy: 0.9396\n",
      "Epoch 6/10\n",
      "428/428 [==============================] - 46s 106ms/step - loss: 0.1328 - accuracy: 0.9520\n",
      "Epoch 7/10\n",
      "428/428 [==============================] - 46s 105ms/step - loss: 0.1358 - accuracy: 0.9499\n",
      "Epoch 8/10\n",
      "428/428 [==============================] - 46s 106ms/step - loss: 0.1128 - accuracy: 0.9557\n",
      "Epoch 9/10\n",
      "428/428 [==============================] - 46s 106ms/step - loss: 0.1136 - accuracy: 0.9571\n",
      "Epoch 10/10\n",
      "428/428 [==============================] - 46s 106ms/step - loss: 0.1132 - accuracy: 0.9575\n"
     ]
    }
   ],
   "source": [
    "initial_epochs = 10\n",
    "history = model.fit(\n",
    "  train_dataset,\n",
    "  epochs=initial_epochs\n",
    ")"
   ]
  },
  {
   "cell_type": "code",
   "execution_count": 12,
   "metadata": {},
   "outputs": [
    {
     "name": "stdout",
     "output_type": "stream",
     "text": [
      "107/107 [==============================] - 11s 94ms/step - loss: 0.1274 - accuracy: 0.9556\n"
     ]
    }
   ],
   "source": [
    "results=model.evaluate(test_dataset)"
   ]
  },
  {
   "cell_type": "code",
   "execution_count": 13,
   "metadata": {},
   "outputs": [
    {
     "data": {
      "image/png": "[encoded data removed]",
      "text/plain": [
       "<Figure size 432x288 with 1 Axes>"
      ]
     },
     "metadata": {
      "needs_background": "light"
     },
     "output_type": "display_data"
    },
    {
     "name": "stdout",
     "output_type": "stream",
     "text": [
      "[7.276406764984131, 0.1905127614736557, 0.15801768004894257, 0.1472042202949524, 0.15939271450042725, 0.13619199395179749, 0.12837643921375275, 0.11262712627649307, 0.12082665413618088, 0.11322902143001556]\n",
      "[0.8463899493217468, 0.9351797699928284, 0.946945309638977, 0.9477491974830627, 0.9439491629600525, 0.9511838555335999, 0.9529377222061157, 0.9572493433952332, 0.9563723802566528, 0.9576877951622009]\n"
     ]
    }
   ],
   "source": [
    "import matplotlib.pyplot as plt\n",
    "\n",
    "plt.plot(history.history['accuracy'])\n",
    "plt.legend(['training'], loc = 'upper left')\n",
    "plt.show()\n",
    "\n",
    "# 각종 값 출력\n",
    "print(history.history['loss'])\n",
    "print(history.history['accuracy'])"
   ]
  },
  {
   "cell_type": "code",
   "execution_count": 14,
   "metadata": {},
   "outputs": [
    {
     "data": {
      "text/plain": [
       "[0.1273796111345291, 0.9555555582046509]"
      ]
     },
     "execution_count": 14,
     "metadata": {},
     "output_type": "execute_result"
    }
   ],
   "source": [
    "results"
   ]
  },
  {
   "cell_type": "code",
   "execution_count": null,
   "metadata": {},
   "outputs": [],
   "source": []
  }
 ],
 "metadata": {
  "kernelspec": {
   "display_name": "Python 3",
   "language": "python",
   "name": "python3"
  },
  "language_info": {
   "codemirror_mode": {
    "name": "ipython",
    "version": 3
   },
   "file_extension": ".py",
   "mimetype": "text/x-python",
   "name": "python",
   "nbconvert_exporter": "python",
   "pygments_lexer": "ipython3",
   "version": "3.7.7"
  }
 },
 "nbformat": 4,
 "nbformat_minor": 4
}
