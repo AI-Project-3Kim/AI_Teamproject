{
 "cells": [
  {
   "cell_type": "code",
   "execution_count": 1,
   "metadata": {
    "id": "2ds7K7W8yCEq"
   },
   "outputs": [],
   "source": [
    "from tensorflow.keras.models import Sequential\n",
    "from tensorflow.keras import optimizers\n",
    "from tensorflow.keras.layers import Dense, Activation, Flatten, Conv2D, MaxPooling2D, Dropout, AveragePooling2D\n",
    "import random\n",
    "from tensorflow.keras.utils import to_categorical\n",
    "import numpy as np\n",
    "from sklearn.model_selection import train_test_split"
   ]
  },
  {
   "cell_type": "code",
   "execution_count": 2,
   "metadata": {
    "id": "mSZLHHiU0gp-"
   },
   "outputs": [],
   "source": [
    "# covid 19 데이터를 불러온다.\n",
    "x = np.load('./covid_19_data/x.npy')\n",
    "y = np.load('./covid_19_data/y.npy')"
   ]
  },
  {
   "cell_type": "code",
   "execution_count": 7,
   "metadata": {
    "id": "frBlNFyu1X95"
   },
   "outputs": [],
   "source": [
    "x_train, x_test, y_train, y_test = train_test_split(x,y, test_size=0.3, shuffle=True,random_state=1004)"
   ]
  },
  {
   "cell_type": "code",
   "execution_count": 23,
   "metadata": {
    "id": "T6RccADt1erL"
   },
   "outputs": [],
   "source": [
    "'''test_idx = random.sample(range(len(x)),int(0.3*len(x)))\n",
    "x_test = x[test_idx,:,:]\n",
    "x_train = np.delete(x, test_idx, axis=0)\n",
    "y.shape\n",
    "y_test = y[test_idx,:]\n",
    "y_train = np.delete(y, test_idx, axis=0)\n",
    "'''\n",
    "x_train = x_train.reshape(len(x_train), 224,224,1)\n",
    "x_test = x_test.reshape(len(x_test), 224,224,1)\n",
    "\n",
    "y_train = to_categorical(y_train)\n",
    "y_test = to_categorical(y_test)"
   ]
  },
  {
   "cell_type": "code",
   "execution_count": 24,
   "metadata": {
    "id": "JHbRTDRb1jfa"
   },
   "outputs": [],
   "source": [
    "import tensorflow as tf\n",
    "\n",
    "model = Sequential()\n",
    "\n",
    "model.add(Conv2D(filters = 6, kernel_size = (5,5) , padding=\"same\", input_shape=(224,224,1)))\n",
    "model.add(Activation(\"relu\"))\n",
    "model.add(AveragePooling2D(pool_size = (2,2), strides = (2,2)))\n",
    "\n",
    "model.add(Conv2D(filters = 16, kernel_size = (5,5) , padding=\"same\"))\n",
    "model.add(Activation(\"relu\"))\n",
    "model.add(AveragePooling2D(pool_size = (2,2), strides = (2,2)))\n",
    "\n",
    "model.add(Flatten())\n",
    "    \n",
    "model.add(Dense(120))\n",
    "model.add(Activation(\"relu\"))\n",
    "\n",
    "model.add(Dense(84))\n",
    "model.add(Activation(\"relu\"))\n",
    "\n",
    "model.add(Dense(3, activation='softmax'))"
   ]
  },
  {
   "cell_type": "code",
   "execution_count": 25,
   "metadata": {
    "id": "_XNiou0y3N89"
   },
   "outputs": [
    {
     "name": "stdout",
     "output_type": "stream",
     "text": [
      "Model: \"sequential_4\"\n",
      "_________________________________________________________________\n",
      "Layer (type)                 Output Shape              Param #   \n",
      "=================================================================\n",
      "conv2d_8 (Conv2D)            (None, 224, 224, 6)       156       \n",
      "_________________________________________________________________\n",
      "activation_16 (Activation)   (None, 224, 224, 6)       0         \n",
      "_________________________________________________________________\n",
      "average_pooling2d_8 (Average (None, 112, 112, 6)       0         \n",
      "_________________________________________________________________\n",
      "conv2d_9 (Conv2D)            (None, 112, 112, 16)      2416      \n",
      "_________________________________________________________________\n",
      "activation_17 (Activation)   (None, 112, 112, 16)      0         \n",
      "_________________________________________________________________\n",
      "average_pooling2d_9 (Average (None, 56, 56, 16)        0         \n",
      "_________________________________________________________________\n",
      "flatten_4 (Flatten)          (None, 50176)             0         \n",
      "_________________________________________________________________\n",
      "dense_12 (Dense)             (None, 120)               6021240   \n",
      "_________________________________________________________________\n",
      "activation_18 (Activation)   (None, 120)               0         \n",
      "_________________________________________________________________\n",
      "dense_13 (Dense)             (None, 84)                10164     \n",
      "_________________________________________________________________\n",
      "activation_19 (Activation)   (None, 84)                0         \n",
      "_________________________________________________________________\n",
      "dense_14 (Dense)             (None, 3)                 255       \n",
      "=================================================================\n",
      "Total params: 6,034,231\n",
      "Trainable params: 6,034,231\n",
      "Non-trainable params: 0\n",
      "_________________________________________________________________\n"
     ]
    }
   ],
   "source": [
    "model.summary()"
   ]
  },
  {
   "cell_type": "code",
   "execution_count": 26,
   "metadata": {
    "id": "x9GEGrRU2Q_T"
   },
   "outputs": [],
   "source": [
    "adam = optimizers.Adam(lr = 0.003)\n",
    "model.compile(loss = 'categorical_crossentropy', optimizer = adam, metrics = ['accuracy'])"
   ]
  },
  {
   "cell_type": "code",
   "execution_count": 27,
   "metadata": {
    "id": "LszbHOPm2usc"
   },
   "outputs": [
    {
     "name": "stdout",
     "output_type": "stream",
     "text": [
      "Epoch 1/10\n",
      "300/300 [==============================] - 18s 35ms/step - loss: 0.8744 - accuracy: 0.7248 - val_loss: 0.2243 - val_accuracy: 0.9228\n",
      "Epoch 2/10\n",
      "300/300 [==============================] - 5s 17ms/step - loss: 0.1829 - accuracy: 0.9321 - val_loss: 0.1755 - val_accuracy: 0.9399\n",
      "Epoch 3/10\n",
      "300/300 [==============================] - 5s 17ms/step - loss: 0.1300 - accuracy: 0.9443 - val_loss: 0.1273 - val_accuracy: 0.9549\n",
      "Epoch 4/10\n",
      "300/300 [==============================] - 5s 17ms/step - loss: 0.1104 - accuracy: 0.9570 - val_loss: 0.1171 - val_accuracy: 0.9633\n",
      "Epoch 5/10\n",
      "300/300 [==============================] - 5s 16ms/step - loss: 0.0493 - accuracy: 0.9805 - val_loss: 0.1496 - val_accuracy: 0.9624\n",
      "Epoch 6/10\n",
      "300/300 [==============================] - 5s 16ms/step - loss: 0.0462 - accuracy: 0.9866 - val_loss: 0.1160 - val_accuracy: 0.9687\n",
      "Epoch 7/10\n",
      "300/300 [==============================] - 5s 16ms/step - loss: 0.0238 - accuracy: 0.9925 - val_loss: 0.1173 - val_accuracy: 0.9628\n",
      "Epoch 8/10\n",
      "300/300 [==============================] - 5s 16ms/step - loss: 0.0300 - accuracy: 0.9901 - val_loss: 0.1272 - val_accuracy: 0.9729\n",
      "Epoch 9/10\n",
      "300/300 [==============================] - 5s 16ms/step - loss: 0.0085 - accuracy: 0.9970 - val_loss: 0.2039 - val_accuracy: 0.9616\n",
      "Epoch 10/10\n",
      "300/300 [==============================] - 5s 16ms/step - loss: 0.0187 - accuracy: 0.9939 - val_loss: 0.2553 - val_accuracy: 0.9553\n"
     ]
    }
   ],
   "source": [
    "history = model.fit(x_train, y_train, batch_size=32, epochs=10, verbose=1, validation_split=0.2)"
   ]
  },
  {
   "cell_type": "code",
   "execution_count": 28,
   "metadata": {
    "id": "5b0j-08Z4HOI"
   },
   "outputs": [
    {
     "name": "stdout",
     "output_type": "stream",
     "text": [
      "161/161 [==============================] - 1s 8ms/step - loss: 0.2723 - accuracy: 0.9560\n",
      "Test accuracy:  0.955962598323822\n"
     ]
    }
   ],
   "source": [
    "results = model.evaluate(x_test, y_test, verbose=1)\n",
    "print('Test accuracy: ', results[1])"
   ]
  },
  {
   "cell_type": "code",
   "execution_count": 29,
   "metadata": {
    "id": "yQWsFwk15IFy"
   },
   "outputs": [
    {
     "data": {
      "image/png": "[encoded data removed]",
      "text/plain": [
       "<Figure size 432x288 with 1 Axes>"
      ]
     },
     "metadata": {
      "needs_background": "light"
     },
     "output_type": "display_data"
    }
   ],
   "source": [
    "plt.plot(history.history['accuracy'])\n",
    "plt.plot(history.history['val_accuracy'])\n",
    "plt.legend(['training', 'validation'], loc = 'upper left')\n",
    "plt.show()"
   ]
  },
  {
   "cell_type": "code",
   "execution_count": null,
   "metadata": {},
   "outputs": [],
   "source": []
  }
 ],
 "metadata": {
  "colab": {
   "authorship_tag": "ABX9TyNFbTVdazfcsIUPQZGLVvoO",
   "collapsed_sections": [],
   "name": "Lenet_CNN_covid_19_classification.ipynb",
   "private_outputs": true,
   "provenance": []
  },
  "kernelspec": {
   "display_name": "Python 3",
   "language": "python",
   "name": "python3"
  },
  "language_info": {
   "codemirror_mode": {
    "name": "ipython",
    "version": 3
   },
   "file_extension": ".py",
   "mimetype": "text/x-python",
   "name": "python",
   "nbconvert_exporter": "python",
   "pygments_lexer": "ipython3",
   "version": "3.7.7"
  }
 },
 "nbformat": 4,
 "nbformat_minor": 1
}
